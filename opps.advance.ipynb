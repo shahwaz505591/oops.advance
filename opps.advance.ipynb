{
 "cells": [
  {
   "cell_type": "markdown",
   "id": "c1e531c1-d0a1-4f18-afa5-1d45b157e6ca",
   "metadata": {},
   "source": [
    "Q1. Which function is used to open a file? What are the different modes of opening a file? Explain each mode of file opening.\n",
    "\n",
    "Ans:\n",
    "\n",
    "In Python, you can use the open() function to open a file. The open() function takes two arguments: the file path and the mode in which you want to open the file. There are several modes for opening a file:\n",
    "\n",
    "'r': Read (default mode). Opens the file for reading.\n",
    "'w': Write. Opens the file for writing. If the file already exists, it truncates it. If it doesn't exist, it creates a new empty file.\n",
    "'a': Append. Opens the file for writing but does not truncate it. If the file doesn't exist, it creates a new one.\n",
    "'x': Exclusive creation. Opens the file for writing, but if the file already exists, it raises an error.\n",
    "'b': Binary mode. This can be added to any of the above modes, e.g., 'rb' or 'wb', to indicate that the file should be treated as a binary file.\n",
    "'t': Text mode (default mode). This can be added to any of the above modes.\n",
    "\n",
    "Ex:# Open a file in read mode\n",
    "file = open('example.txt', 'r')\n",
    "\n",
    "    \n"
   ]
  },
  {
   "cell_type": "markdown",
   "id": "05c4b3be-7338-48de-bddf-09f8c5c87d8f",
   "metadata": {},
   "source": [
    "Q2. Why close() function is used? Why is it important to close a file?\n",
    "Ans\n",
    "The close() function is used to close an open file. It's important to close a file for several reasons:\n",
    "\n",
    "Resource Management: Open files consume system resources. Failing to close them can lead to resource leaks and potentially exhaust available file handles.\n",
    "\n",
    "Data Integrity: Closing a file ensures that all pending changes are flushed to the file. If you don't close the file and your program crashes, you might lose data that was not written to the file.\n",
    "\n",
    "Compatibility: Closing files is good practice and ensures your code works consistently across different systems and Python versions.\n",
    "Example:\n",
    "    file = open('example.txt', 'w')\n",
    "file.write('Hello, world!')\n",
    "file.close()  # Close the file when done\n"
   ]
  },
  {
   "cell_type": "markdown",
   "id": "1caebaea-94a3-4504-a132-c9381892bfab",
   "metadata": {},
   "source": [
    "Q3. Write a python program to create a text file. Write ‘I want to become a Data Scientist’ in that file. Then\n",
    "close the file. Open this file and read the content of the file.\n",
    "Ans:\n",
    "    \n",
    "    \n",
    "    # Create and write to a text file\n",
    "with open('my_file.txt', 'w') as file:\n",
    "    file.write('I want to become a Data Scientist')\n",
    "\n",
    "# Open and read the content of the file\n",
    "with open('my_file.txt', 'r') as file:\n",
    "    content = file.read()\n",
    "    print(content)\n"
   ]
  },
  {
   "cell_type": "markdown",
   "id": "8bb6d24e-2287-4a08-98b6-b02cf166e61f",
   "metadata": {},
   "source": [
    "Q4. Explain the following with python code: read(), readline() and readlines().\n",
    "Ans:\n",
    "    1.read(): Reads the entire content of the file as a single string.\n",
    "Ex:\n",
    "    with open('my_file.txt', 'r') as file:\n",
    "    content = file.read()\n",
    "    print(content)\n",
    "2.readline(): Reads one line from the file at a time. Repeated calls to readline() will read subsequent lines.\n",
    "\n",
    "Ex:\n",
    "    with open('my_file.txt', 'r') as file:\n",
    "    line1 = file.readline()\n",
    "    line2 = file.readline()\n",
    "    print(line1)\n",
    "    print(line2)\n",
    "3.readlines(): Reads all lines from the file and returns them as a list of strings, with each string representing a line from the file.\n",
    "Ex:\n",
    "    with open('my_file.txt', 'r') as file:\n",
    "    lines = file.readlines()\n",
    "    for line in lines:\n",
    "        print(line)\n",
    "\n",
    "    "
   ]
  },
  {
   "cell_type": "code",
   "execution_count": null,
   "id": "a69b1fc5-8d7f-4ce3-8d24-fffd6a1c42cc",
   "metadata": {},
   "outputs": [],
   "source": [
    "Q5. Explain why with statement is used with open(). What is the advantage of using with statement and\n",
    "open() together?\n",
    "\n",
    "Ans:\n",
    "    The with statement is used with open() for context management. The advantage of using them together is that it automatically takes care of opening and closing the file, ensuring that the file is properly closed when you are done with it, even if an exception occurs.\n",
    "\n",
    "Using with and open() together is considered best practice because it helps prevent resource leaks and simplifies your code. When the code block inside the with statement is exited, the file is automatically closed.\n",
    "\n",
    "Ex:\n",
    "    with open('example.txt', 'r') as file:\n",
    "    data = file.read()\n",
    "# The file is automatically closed when the block exits, even if an exception occurs.\n",
    "\n",
    "    "
   ]
  },
  {
   "cell_type": "markdown",
   "id": "24ef3595-8d6a-40d6-9541-4e4ff62e90bb",
   "metadata": {},
   "source": [
    "Q6. Explain the write() and writelines() functions. Give a suitable example.\n",
    "\n",
    "Ans:\n",
    "    1.write(): Writes a string to the file. It can be used to write text sequentially to the file. If the file does not exist, it creates it.\n",
    "    Ex:\n",
    "        with open('my_file.txt', 'w') as file:\n",
    "    file.write('This is the first line.\\n')\n",
    "    file.write('This is the second line.')\n",
    "\n",
    "    \n",
    "    2.writelines(): Writes a list of strings to the file. It does not automatically add newline characters between lines, so you need to include them if needed.\n",
    "Ex:\n",
    "    lines = ['Line 1\\n', 'Line 2\\n', 'Line 3\\n']\n",
    "with open('my_file.txt', 'w') as file:\n",
    "    file.writelines(lines)\n",
    "\n",
    " \n"
   ]
  },
  {
   "cell_type": "markdown",
   "id": "6168a413-7ecd-44bd-a99a-e438a0f31ab0",
   "metadata": {},
   "source": []
  },
  {
   "cell_type": "code",
   "execution_count": null,
   "id": "392126d6-e552-4a81-ae19-ead3099f3764",
   "metadata": {},
   "outputs": [],
   "source": []
  }
 ],
 "metadata": {
  "kernelspec": {
   "display_name": "Python 3 (ipykernel)",
   "language": "python",
   "name": "python3"
  },
  "language_info": {
   "codemirror_mode": {
    "name": "ipython",
    "version": 3
   },
   "file_extension": ".py",
   "mimetype": "text/x-python",
   "name": "python",
   "nbconvert_exporter": "python",
   "pygments_lexer": "ipython3",
   "version": "3.10.8"
  }
 },
 "nbformat": 4,
 "nbformat_minor": 5
}
